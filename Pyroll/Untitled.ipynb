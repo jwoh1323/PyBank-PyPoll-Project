{
 "cells": [
  {
   "cell_type": "code",
   "execution_count": 1,
   "metadata": {},
   "outputs": [],
   "source": [
    "import os\n",
    "import csv"
   ]
  },
  {
   "cell_type": "code",
   "execution_count": 4,
   "metadata": {},
   "outputs": [],
   "source": [
    "PyrollCSV = os.path.join('election_data.csv')"
   ]
  },
  {
   "cell_type": "code",
   "execution_count": 39,
   "metadata": {},
   "outputs": [
    {
     "name": "stdout",
     "output_type": "stream",
     "text": [
      "Election Results\n",
      "---------------------------\n",
      "Total Votes: 3521001\n",
      "---------------------------\n",
      "Khan: 63.0% (2218231)\n",
      "Correy: 20.0% (704200)\n",
      "Li: 14.0% (492940)\n",
      "O'Tooley: 3.0% (105630)\n",
      "---------------------------\n",
      "Winner: Khan\n",
      "---------------------------\n"
     ]
    }
   ],
   "source": [
    "with open(PyrollCSV, 'r') as csvfile: \n",
    "    csvreader = csv.reader(csvfile, delimiter=',')\n",
    "    header = next(csvreader)\n",
    "    \n",
    "    countyCorrey = 0\n",
    "    countKhan = 0\n",
    "    countLi = 0\n",
    "    countOTooley = 0\n",
    "    totalCount = 0\n",
    "    for row in csvreader:\n",
    "        canddidate = row[2]\n",
    "        totalCount +=1\n",
    "    \n",
    "        if (canddidate == \"Correy\"):\n",
    "            countyCorrey +=1\n",
    "        elif (canddidate == \"Khan\"):\n",
    "            countKhan +=1\n",
    "        elif (canddidate == \"Li\"):\n",
    "            countLi +=1\n",
    "        elif (canddidate == \"O'Tooley\"):\n",
    "            countOTooley +=1\n",
    "    \n",
    "    \n",
    "    Correypercent = round((countyCorrey/totalCount) * 100,2)\n",
    "    Khanpercent = round((countKhan/totalCount) * 100,2)\n",
    "    Lipercent = round((countLi/totalCount) * 100,2)\n",
    "    OTooleypercent = round((countOTooley/totalCount) * 100,2)\n",
    "    \n",
    "    candidate_list = {countyCorrey:\"Correy\", countKhan:\"Khan\", countLi:\"Li\", countOTooley:\"O'Tooley\"}\n",
    "    max = 0\n",
    "    for count in candidate_list:\n",
    "        if (count > max):\n",
    "            max = count\n",
    "    \n",
    "    winner = candidate_list[max]\n",
    "    \n",
    "    print(\"Election Results\")\n",
    "    print(\"---------------------------\")\n",
    "    print(f'Total Votes: {totalCount}')\n",
    "    print(\"---------------------------\")\n",
    "    print(f'Khan: {Khanpercent}% ({countKhan})')\n",
    "    print(f'Correy: {Correypercent}% ({countyCorrey})')\n",
    "    print(f'Li: {Lipercent}% ({countLi})')\n",
    "    print(f'O\\'Tooley: {OTooleypercent}% ({countOTooley})')\n",
    "    print(\"---------------------------\")\n",
    "    print(f'Winner: {winner}')\n",
    "    print(\"---------------------------\")"
   ]
  }
 ],
 "metadata": {
  "kernelspec": {
   "display_name": "Python 3",
   "language": "python",
   "name": "python3"
  },
  "language_info": {
   "codemirror_mode": {
    "name": "ipython",
    "version": 3
   },
   "file_extension": ".py",
   "mimetype": "text/x-python",
   "name": "python",
   "nbconvert_exporter": "python",
   "pygments_lexer": "ipython3",
   "version": "3.7.0"
  }
 },
 "nbformat": 4,
 "nbformat_minor": 2
}
