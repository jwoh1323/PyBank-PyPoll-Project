{
 "cells": [
  {
   "cell_type": "code",
   "execution_count": 1,
   "metadata": {},
   "outputs": [],
   "source": [
    "import os\n",
    "import csv"
   ]
  },
  {
   "cell_type": "code",
   "execution_count": 2,
   "metadata": {},
   "outputs": [],
   "source": [
    "PybankCSV = os.path.join('budget_data.csv')"
   ]
  },
  {
   "cell_type": "code",
   "execution_count": 14,
   "metadata": {},
   "outputs": [
    {
     "name": "stdout",
     "output_type": "stream",
     "text": [
      "38382578\n",
      "86\n",
      "867884\n",
      "-2315.1176470588234\n",
      "smallest change  -2196167\n",
      "smallest date Sep-2013\n"
     ]
    }
   ],
   "source": [
    "with open(PybankCSV, 'r') as csvfile: \n",
    "    csvreader = csv.reader(csvfile, delimiter=',')\n",
    "    header = next(csvreader)\n",
    "           \n",
    "    count = 0\n",
    "    total = 0\n",
    "    largest_change = 0 \n",
    "    smallest_change = 0\n",
    "    total_change = 0\n",
    "    largest_date = ''\n",
    "    smallest_date = ''\n",
    "    \n",
    "    for row in csvreader:\n",
    "        total = total + int(row[1])\n",
    "        count +=1\n",
    "    print(total)\n",
    "    print(count)\n",
    "    \n",
    "    csvfile.seek(0)\n",
    "    header = next(csvreader)\n",
    "    current_row = next(csvreader)\n",
    "    current_value = int(current_row[1])\n",
    "    print(current_value)\n",
    "    \n",
    "    for row in csvreader:\n",
    "        change = int(row[1]) - current_value\n",
    "        current_value = int(row[1])\n",
    "        total_change += change\n",
    "        \n",
    "        if( change > largest_change):\n",
    "            largest_change = change\n",
    "            largest_date = row[0]\n",
    "            \n",
    "        elif ( change < smallest_change):\n",
    "            smallest_change = change\n",
    "            smallest_date = row[0]\n",
    "    \n",
    "    print(total_change/(count-1))\n",
    "    print(\"smallest change \", smallest_change)\n",
    "    print(\"smallest date\", smallest_date)\n",
    "    \n"
   ]
  },
  {
   "cell_type": "code",
   "execution_count": null,
   "metadata": {},
   "outputs": [],
   "source": []
  }
 ],
 "metadata": {
  "kernelspec": {
   "display_name": "Python 3",
   "language": "python",
   "name": "python3"
  },
  "language_info": {
   "codemirror_mode": {
    "name": "ipython",
    "version": 3
   },
   "file_extension": ".py",
   "mimetype": "text/x-python",
   "name": "python",
   "nbconvert_exporter": "python",
   "pygments_lexer": "ipython3",
   "version": "3.7.0"
  }
 },
 "nbformat": 4,
 "nbformat_minor": 2
}
