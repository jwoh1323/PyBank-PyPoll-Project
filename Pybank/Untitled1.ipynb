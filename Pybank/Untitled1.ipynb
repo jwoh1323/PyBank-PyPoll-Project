{
 "cells": [
  {
   "cell_type": "code",
   "execution_count": 4,
   "metadata": {},
   "outputs": [],
   "source": [
    "import os\n",
    "import csv"
   ]
  },
  {
   "cell_type": "code",
   "execution_count": 5,
   "metadata": {},
   "outputs": [],
   "source": [
    "PybankCSV = os.path.join('budget_data.csv')"
   ]
  },
  {
   "cell_type": "code",
   "execution_count": 10,
   "metadata": {},
   "outputs": [
    {
     "name": "stdout",
     "output_type": "stream",
     "text": [
      "Financial Analysis\n",
      "---------------------------\n",
      "Total Months: 86\n",
      "Total: $38382578\n",
      "Average Change: -2315.12\n",
      "Greast Increase in Profit: Feb-2012 ($1926159)\n",
      "Greatest Decrease in Profits: Sep-2013 ($-2196167)\n"
     ]
    }
   ],
   "source": [
    "with open(PybankCSV, 'r') as csvfile: \n",
    "    csvreader = csv.reader(csvfile, delimiter=',')\n",
    "    header = next(csvreader)\n",
    "           \n",
    "    count = 0\n",
    "    total = 0\n",
    "    largest_change = 0 \n",
    "    smallest_change = 0\n",
    "    total_change = 0\n",
    "    largest_date = ''\n",
    "    smallest_date = ''\n",
    "    \n",
    "    for row in csvreader:\n",
    "        total = total + int(row[1])\n",
    "        count +=1\n",
    "    \n",
    "    csvfile.seek(0)\n",
    "    header = next(csvreader)\n",
    "    current_row = next(csvreader)\n",
    "    current_value = int(current_row[1])\n",
    "    \n",
    "    for row in csvreader:\n",
    "        change = int(row[1]) - current_value\n",
    "        current_value = int(row[1])\n",
    "        total_change += change\n",
    "        \n",
    "        averagechange = round(total_change/(count-1),2)\n",
    "        \n",
    "        if(change > largest_change):\n",
    "            largest_change = change\n",
    "            largest_date = row[0]\n",
    "            \n",
    "        elif (change < smallest_change):\n",
    "            smallest_change = change\n",
    "            smallest_date = row[0]\n",
    "    \n",
    "    print(\"Financial Analysis\")\n",
    "    print(\"---------------------------\")\n",
    "    print(f'Total Months: {count}')\n",
    "    print(f'Total: ${total}')\n",
    "    print(f'Average Change: {averagechange}')\n",
    "    print(f'Greast Increase in Profit: {largest_date} (${largest_change})')\n",
    "    print(f'Greatest Decrease in Profits: {smallest_date} (${smallest_change})')"
   ]
  }
 ],
 "metadata": {
  "kernelspec": {
   "display_name": "Python 3",
   "language": "python",
   "name": "python3"
  },
  "language_info": {
   "codemirror_mode": {
    "name": "ipython",
    "version": 3
   },
   "file_extension": ".py",
   "mimetype": "text/x-python",
   "name": "python",
   "nbconvert_exporter": "python",
   "pygments_lexer": "ipython3",
   "version": "3.7.0"
  }
 },
 "nbformat": 4,
 "nbformat_minor": 2
}
